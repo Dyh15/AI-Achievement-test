{
  "nbformat": 4,
  "nbformat_minor": 0,
  "metadata": {
    "colab": {
      "provenance": []
    },
    "kernelspec": {
      "name": "python3",
      "display_name": "Python 3"
    },
    "language_info": {
      "name": "python"
    }
  },
  "cells": [
    {
      "cell_type": "code",
      "source": [
        "from google.colab import drive\n",
        "drive.mount('/content/gdrive')"
      ],
      "metadata": {
        "colab": {
          "base_uri": "https://localhost:8080/"
        },
        "id": "tWsRzOFsH3Dc",
        "outputId": "5c7fae7f-afd2-4a44-8f7b-ca81e4858cf0"
      },
      "execution_count": null,
      "outputs": [
        {
          "output_type": "stream",
          "name": "stdout",
          "text": [
            "Drive already mounted at /content/gdrive; to attempt to forcibly remount, call drive.mount(\"/content/gdrive\", force_remount=True).\n"
          ]
        }
      ]
    },
    {
      "cell_type": "code",
      "source": [
        "cd /content/gdrive/MyDrive/"
      ],
      "metadata": {
        "colab": {
          "base_uri": "https://localhost:8080/"
        },
        "id": "hOho3yxvg3mt",
        "outputId": "476d74c2-bce4-4ffd-c4de-52809b9af4cc"
      },
      "execution_count": null,
      "outputs": [
        {
          "output_type": "stream",
          "name": "stdout",
          "text": [
            "/content/gdrive/MyDrive\n"
          ]
        }
      ]
    },
    {
      "cell_type": "code",
      "source": [
        "!unzip '/content/gdrive/MyDrive/archive.zip' -d '/content/gdrive/MyDrive/'"
      ],
      "metadata": {
        "colab": {
          "base_uri": "https://localhost:8080/"
        },
        "id": "kKelixQvFHuz",
        "outputId": "8fd000a2-6d9c-4c8d-a4a2-995f471cbe68"
      },
      "execution_count": null,
      "outputs": [
        {
          "output_type": "stream",
          "name": "stdout",
          "text": [
            "Archive:  /content/gdrive/MyDrive/archive.zip\n",
            "replace /content/gdrive/MyDrive/Brain_GSE50161.csv? [y]es, [n]o, [A]ll, [N]one, [r]ename: yes\n",
            "  inflating: /content/gdrive/MyDrive/Brain_GSE50161.csv  \n"
          ]
        }
      ]
    },
    {
      "cell_type": "code",
      "source": [
        "import pandas as pd"
      ],
      "metadata": {
        "id": "dh5_9QdII5Aq"
      },
      "execution_count": null,
      "outputs": []
    },
    {
      "cell_type": "code",
      "source": [
        "data= pd.read_csv('Brain_GSE50161.csv', delimiter=',')"
      ],
      "metadata": {
        "id": "e3dOQ1t0Linq"
      },
      "execution_count": null,
      "outputs": []
    },
    {
      "cell_type": "code",
      "source": [
        "print(data)"
      ],
      "metadata": {
        "colab": {
          "base_uri": "https://localhost:8080/"
        },
        "id": "-8XCIfEmMI37",
        "outputId": "72968e16-342a-4439-aa37-b2d3b841c9f1"
      },
      "execution_count": null,
      "outputs": [
        {
          "output_type": "stream",
          "name": "stdout",
          "text": [
            "     samples                   type  1007_s_at   1053_at     117_at    121_at  \\\n",
            "0        834             ependymoma  12.498150  7.604868   6.880934  9.027128   \n",
            "1        835             ependymoma  13.067436  7.998090   7.209076  9.723322   \n",
            "2        836             ependymoma  13.068179  8.573674   8.647684  9.613002   \n",
            "3        837             ependymoma  12.456040  9.098977   6.628784  8.517677   \n",
            "4        838             ependymoma  12.699958  8.800721  11.556188  9.166309   \n",
            "..       ...                    ...        ...       ...        ...       ...   \n",
            "125      959  pilocytic_astrocytoma  12.658228  8.843270   7.672655  9.125912   \n",
            "126      960  pilocytic_astrocytoma  12.812823  8.510550   8.729699  9.104402   \n",
            "127      961  pilocytic_astrocytoma  12.706991  8.795721   7.772359  8.327273   \n",
            "128      962  pilocytic_astrocytoma  12.684593  8.293938   7.228186  8.494428   \n",
            "129      963  pilocytic_astrocytoma  12.397722  8.843524   8.825100  8.551541   \n",
            "\n",
            "     1255_g_at   1294_at   1316_at   1320_at  ...  AFFX-r2-Ec-bioD-3_at  \\\n",
            "0     4.176175  7.224920  6.085942  6.835999  ...              9.979005   \n",
            "1     4.826126  7.539381  6.250962  8.012549  ...             11.924749   \n",
            "2     4.396581  7.813101  6.007746  7.178156  ...             12.154405   \n",
            "3     4.154847  8.361843  6.596064  6.347285  ...             11.969072   \n",
            "4     4.165891  7.923826  6.212754  6.866387  ...             11.411701   \n",
            "..         ...       ...       ...       ...  ...                   ...   \n",
            "125   5.495477  8.603892  7.747514  5.828978  ...             13.170441   \n",
            "126   3.967228  7.719089  7.092496  6.504812  ...             13.040267   \n",
            "127   6.329383  8.550471  6.613332  6.308945  ...             12.825383   \n",
            "128   6.049414  8.214729  7.287758  5.732710  ...             13.116581   \n",
            "129   5.002072  8.547894  6.920827  5.738159  ...             13.117180   \n",
            "\n",
            "     AFFX-r2-Ec-bioD-5_at  AFFX-r2-P1-cre-3_at  AFFX-r2-P1-cre-5_at  \\\n",
            "0                9.926470            12.719785            12.777792   \n",
            "1               11.215930            13.605662            13.401342   \n",
            "2               11.532460            13.764593            13.477800   \n",
            "3               11.288801            13.600828            13.379029   \n",
            "4               11.169317            13.751442            13.803646   \n",
            "..                    ...                  ...                  ...   \n",
            "125             12.676080            14.124837            13.996436   \n",
            "126             12.403316            13.978009            13.812916   \n",
            "127             12.439265            14.328373            14.008693   \n",
            "128             12.657967            14.390346            14.194904   \n",
            "129             12.699932            14.286779            14.088950   \n",
            "\n",
            "     AFFX-ThrX-3_at  AFFX-ThrX-5_at  AFFX-ThrX-M_at  AFFX-TrpnX-3_at  \\\n",
            "0          5.403657        4.870548        4.047380         3.721936   \n",
            "1          5.224555        4.895315        3.786437         3.564481   \n",
            "2          5.303565        5.052184        4.005343         3.595382   \n",
            "3          4.953429        4.708371        3.892318         3.759429   \n",
            "4          4.892677        4.773806        3.796856         3.577544   \n",
            "..              ...             ...             ...              ...   \n",
            "125        4.913579        4.399176        3.878855         3.680103   \n",
            "126        5.189600        4.912618        3.764800         3.664920   \n",
            "127        4.931460        4.712895        3.913637         3.700964   \n",
            "128        4.871092        4.739400        3.782980         3.920363   \n",
            "129        4.932377        4.700205        3.952850         3.678112   \n",
            "\n",
            "     AFFX-TrpnX-5_at  AFFX-TrpnX-M_at  \n",
            "0           4.516434         4.749940  \n",
            "1           4.430891         4.491416  \n",
            "2           4.563494         4.668827  \n",
            "3           4.748381         4.521275  \n",
            "4           4.504385         4.541450  \n",
            "..               ...              ...  \n",
            "125         4.726784         4.564637  \n",
            "126         4.628355         4.761351  \n",
            "127         4.764693         4.834952  \n",
            "128         4.665584         4.613326  \n",
            "129         5.018501         4.704779  \n",
            "\n",
            "[130 rows x 54677 columns]\n"
          ]
        }
      ]
    },
    {
      "cell_type": "code",
      "source": [
        "data.head()"
      ],
      "metadata": {
        "colab": {
          "base_uri": "https://localhost:8080/",
          "height": 334
        },
        "id": "S1XjwfR4OOTj",
        "outputId": "98932bc7-5ca0-4827-ab06-565c5052e469"
      },
      "execution_count": null,
      "outputs": [
        {
          "output_type": "execute_result",
          "data": {
            "text/plain": [
              "   samples        type  1007_s_at   1053_at     117_at    121_at  1255_g_at  \\\n",
              "0      834  ependymoma  12.498150  7.604868   6.880934  9.027128   4.176175   \n",
              "1      835  ependymoma  13.067436  7.998090   7.209076  9.723322   4.826126   \n",
              "2      836  ependymoma  13.068179  8.573674   8.647684  9.613002   4.396581   \n",
              "3      837  ependymoma  12.456040  9.098977   6.628784  8.517677   4.154847   \n",
              "4      838  ependymoma  12.699958  8.800721  11.556188  9.166309   4.165891   \n",
              "\n",
              "    1294_at   1316_at   1320_at  ...  AFFX-r2-Ec-bioD-3_at  \\\n",
              "0  7.224920  6.085942  6.835999  ...              9.979005   \n",
              "1  7.539381  6.250962  8.012549  ...             11.924749   \n",
              "2  7.813101  6.007746  7.178156  ...             12.154405   \n",
              "3  8.361843  6.596064  6.347285  ...             11.969072   \n",
              "4  7.923826  6.212754  6.866387  ...             11.411701   \n",
              "\n",
              "   AFFX-r2-Ec-bioD-5_at  AFFX-r2-P1-cre-3_at  AFFX-r2-P1-cre-5_at  \\\n",
              "0              9.926470            12.719785            12.777792   \n",
              "1             11.215930            13.605662            13.401342   \n",
              "2             11.532460            13.764593            13.477800   \n",
              "3             11.288801            13.600828            13.379029   \n",
              "4             11.169317            13.751442            13.803646   \n",
              "\n",
              "   AFFX-ThrX-3_at  AFFX-ThrX-5_at  AFFX-ThrX-M_at  AFFX-TrpnX-3_at  \\\n",
              "0        5.403657        4.870548        4.047380         3.721936   \n",
              "1        5.224555        4.895315        3.786437         3.564481   \n",
              "2        5.303565        5.052184        4.005343         3.595382   \n",
              "3        4.953429        4.708371        3.892318         3.759429   \n",
              "4        4.892677        4.773806        3.796856         3.577544   \n",
              "\n",
              "   AFFX-TrpnX-5_at  AFFX-TrpnX-M_at  \n",
              "0         4.516434         4.749940  \n",
              "1         4.430891         4.491416  \n",
              "2         4.563494         4.668827  \n",
              "3         4.748381         4.521275  \n",
              "4         4.504385         4.541450  \n",
              "\n",
              "[5 rows x 54677 columns]"
            ],
            "text/html": [
              "\n",
              "  <div id=\"df-0dcc177a-258f-4834-9cc5-166ef80b5744\">\n",
              "    <div class=\"colab-df-container\">\n",
              "      <div>\n",
              "<style scoped>\n",
              "    .dataframe tbody tr th:only-of-type {\n",
              "        vertical-align: middle;\n",
              "    }\n",
              "\n",
              "    .dataframe tbody tr th {\n",
              "        vertical-align: top;\n",
              "    }\n",
              "\n",
              "    .dataframe thead th {\n",
              "        text-align: right;\n",
              "    }\n",
              "</style>\n",
              "<table border=\"1\" class=\"dataframe\">\n",
              "  <thead>\n",
              "    <tr style=\"text-align: right;\">\n",
              "      <th></th>\n",
              "      <th>samples</th>\n",
              "      <th>type</th>\n",
              "      <th>1007_s_at</th>\n",
              "      <th>1053_at</th>\n",
              "      <th>117_at</th>\n",
              "      <th>121_at</th>\n",
              "      <th>1255_g_at</th>\n",
              "      <th>1294_at</th>\n",
              "      <th>1316_at</th>\n",
              "      <th>1320_at</th>\n",
              "      <th>...</th>\n",
              "      <th>AFFX-r2-Ec-bioD-3_at</th>\n",
              "      <th>AFFX-r2-Ec-bioD-5_at</th>\n",
              "      <th>AFFX-r2-P1-cre-3_at</th>\n",
              "      <th>AFFX-r2-P1-cre-5_at</th>\n",
              "      <th>AFFX-ThrX-3_at</th>\n",
              "      <th>AFFX-ThrX-5_at</th>\n",
              "      <th>AFFX-ThrX-M_at</th>\n",
              "      <th>AFFX-TrpnX-3_at</th>\n",
              "      <th>AFFX-TrpnX-5_at</th>\n",
              "      <th>AFFX-TrpnX-M_at</th>\n",
              "    </tr>\n",
              "  </thead>\n",
              "  <tbody>\n",
              "    <tr>\n",
              "      <th>0</th>\n",
              "      <td>834</td>\n",
              "      <td>ependymoma</td>\n",
              "      <td>12.498150</td>\n",
              "      <td>7.604868</td>\n",
              "      <td>6.880934</td>\n",
              "      <td>9.027128</td>\n",
              "      <td>4.176175</td>\n",
              "      <td>7.224920</td>\n",
              "      <td>6.085942</td>\n",
              "      <td>6.835999</td>\n",
              "      <td>...</td>\n",
              "      <td>9.979005</td>\n",
              "      <td>9.926470</td>\n",
              "      <td>12.719785</td>\n",
              "      <td>12.777792</td>\n",
              "      <td>5.403657</td>\n",
              "      <td>4.870548</td>\n",
              "      <td>4.047380</td>\n",
              "      <td>3.721936</td>\n",
              "      <td>4.516434</td>\n",
              "      <td>4.749940</td>\n",
              "    </tr>\n",
              "    <tr>\n",
              "      <th>1</th>\n",
              "      <td>835</td>\n",
              "      <td>ependymoma</td>\n",
              "      <td>13.067436</td>\n",
              "      <td>7.998090</td>\n",
              "      <td>7.209076</td>\n",
              "      <td>9.723322</td>\n",
              "      <td>4.826126</td>\n",
              "      <td>7.539381</td>\n",
              "      <td>6.250962</td>\n",
              "      <td>8.012549</td>\n",
              "      <td>...</td>\n",
              "      <td>11.924749</td>\n",
              "      <td>11.215930</td>\n",
              "      <td>13.605662</td>\n",
              "      <td>13.401342</td>\n",
              "      <td>5.224555</td>\n",
              "      <td>4.895315</td>\n",
              "      <td>3.786437</td>\n",
              "      <td>3.564481</td>\n",
              "      <td>4.430891</td>\n",
              "      <td>4.491416</td>\n",
              "    </tr>\n",
              "    <tr>\n",
              "      <th>2</th>\n",
              "      <td>836</td>\n",
              "      <td>ependymoma</td>\n",
              "      <td>13.068179</td>\n",
              "      <td>8.573674</td>\n",
              "      <td>8.647684</td>\n",
              "      <td>9.613002</td>\n",
              "      <td>4.396581</td>\n",
              "      <td>7.813101</td>\n",
              "      <td>6.007746</td>\n",
              "      <td>7.178156</td>\n",
              "      <td>...</td>\n",
              "      <td>12.154405</td>\n",
              "      <td>11.532460</td>\n",
              "      <td>13.764593</td>\n",
              "      <td>13.477800</td>\n",
              "      <td>5.303565</td>\n",
              "      <td>5.052184</td>\n",
              "      <td>4.005343</td>\n",
              "      <td>3.595382</td>\n",
              "      <td>4.563494</td>\n",
              "      <td>4.668827</td>\n",
              "    </tr>\n",
              "    <tr>\n",
              "      <th>3</th>\n",
              "      <td>837</td>\n",
              "      <td>ependymoma</td>\n",
              "      <td>12.456040</td>\n",
              "      <td>9.098977</td>\n",
              "      <td>6.628784</td>\n",
              "      <td>8.517677</td>\n",
              "      <td>4.154847</td>\n",
              "      <td>8.361843</td>\n",
              "      <td>6.596064</td>\n",
              "      <td>6.347285</td>\n",
              "      <td>...</td>\n",
              "      <td>11.969072</td>\n",
              "      <td>11.288801</td>\n",
              "      <td>13.600828</td>\n",
              "      <td>13.379029</td>\n",
              "      <td>4.953429</td>\n",
              "      <td>4.708371</td>\n",
              "      <td>3.892318</td>\n",
              "      <td>3.759429</td>\n",
              "      <td>4.748381</td>\n",
              "      <td>4.521275</td>\n",
              "    </tr>\n",
              "    <tr>\n",
              "      <th>4</th>\n",
              "      <td>838</td>\n",
              "      <td>ependymoma</td>\n",
              "      <td>12.699958</td>\n",
              "      <td>8.800721</td>\n",
              "      <td>11.556188</td>\n",
              "      <td>9.166309</td>\n",
              "      <td>4.165891</td>\n",
              "      <td>7.923826</td>\n",
              "      <td>6.212754</td>\n",
              "      <td>6.866387</td>\n",
              "      <td>...</td>\n",
              "      <td>11.411701</td>\n",
              "      <td>11.169317</td>\n",
              "      <td>13.751442</td>\n",
              "      <td>13.803646</td>\n",
              "      <td>4.892677</td>\n",
              "      <td>4.773806</td>\n",
              "      <td>3.796856</td>\n",
              "      <td>3.577544</td>\n",
              "      <td>4.504385</td>\n",
              "      <td>4.541450</td>\n",
              "    </tr>\n",
              "  </tbody>\n",
              "</table>\n",
              "<p>5 rows × 54677 columns</p>\n",
              "</div>\n",
              "      <button class=\"colab-df-convert\" onclick=\"convertToInteractive('df-0dcc177a-258f-4834-9cc5-166ef80b5744')\"\n",
              "              title=\"Convert this dataframe to an interactive table.\"\n",
              "              style=\"display:none;\">\n",
              "        \n",
              "  <svg xmlns=\"http://www.w3.org/2000/svg\" height=\"24px\"viewBox=\"0 0 24 24\"\n",
              "       width=\"24px\">\n",
              "    <path d=\"M0 0h24v24H0V0z\" fill=\"none\"/>\n",
              "    <path d=\"M18.56 5.44l.94 2.06.94-2.06 2.06-.94-2.06-.94-.94-2.06-.94 2.06-2.06.94zm-11 1L8.5 8.5l.94-2.06 2.06-.94-2.06-.94L8.5 2.5l-.94 2.06-2.06.94zm10 10l.94 2.06.94-2.06 2.06-.94-2.06-.94-.94-2.06-.94 2.06-2.06.94z\"/><path d=\"M17.41 7.96l-1.37-1.37c-.4-.4-.92-.59-1.43-.59-.52 0-1.04.2-1.43.59L10.3 9.45l-7.72 7.72c-.78.78-.78 2.05 0 2.83L4 21.41c.39.39.9.59 1.41.59.51 0 1.02-.2 1.41-.59l7.78-7.78 2.81-2.81c.8-.78.8-2.07 0-2.86zM5.41 20L4 18.59l7.72-7.72 1.47 1.35L5.41 20z\"/>\n",
              "  </svg>\n",
              "      </button>\n",
              "      \n",
              "  <style>\n",
              "    .colab-df-container {\n",
              "      display:flex;\n",
              "      flex-wrap:wrap;\n",
              "      gap: 12px;\n",
              "    }\n",
              "\n",
              "    .colab-df-convert {\n",
              "      background-color: #E8F0FE;\n",
              "      border: none;\n",
              "      border-radius: 50%;\n",
              "      cursor: pointer;\n",
              "      display: none;\n",
              "      fill: #1967D2;\n",
              "      height: 32px;\n",
              "      padding: 0 0 0 0;\n",
              "      width: 32px;\n",
              "    }\n",
              "\n",
              "    .colab-df-convert:hover {\n",
              "      background-color: #E2EBFA;\n",
              "      box-shadow: 0px 1px 2px rgba(60, 64, 67, 0.3), 0px 1px 3px 1px rgba(60, 64, 67, 0.15);\n",
              "      fill: #174EA6;\n",
              "    }\n",
              "\n",
              "    [theme=dark] .colab-df-convert {\n",
              "      background-color: #3B4455;\n",
              "      fill: #D2E3FC;\n",
              "    }\n",
              "\n",
              "    [theme=dark] .colab-df-convert:hover {\n",
              "      background-color: #434B5C;\n",
              "      box-shadow: 0px 1px 3px 1px rgba(0, 0, 0, 0.15);\n",
              "      filter: drop-shadow(0px 1px 2px rgba(0, 0, 0, 0.3));\n",
              "      fill: #FFFFFF;\n",
              "    }\n",
              "  </style>\n",
              "\n",
              "      <script>\n",
              "        const buttonEl =\n",
              "          document.querySelector('#df-0dcc177a-258f-4834-9cc5-166ef80b5744 button.colab-df-convert');\n",
              "        buttonEl.style.display =\n",
              "          google.colab.kernel.accessAllowed ? 'block' : 'none';\n",
              "\n",
              "        async function convertToInteractive(key) {\n",
              "          const element = document.querySelector('#df-0dcc177a-258f-4834-9cc5-166ef80b5744');\n",
              "          const dataTable =\n",
              "            await google.colab.kernel.invokeFunction('convertToInteractive',\n",
              "                                                     [key], {});\n",
              "          if (!dataTable) return;\n",
              "\n",
              "          const docLinkHtml = 'Like what you see? Visit the ' +\n",
              "            '<a target=\"_blank\" href=https://colab.research.google.com/notebooks/data_table.ipynb>data table notebook</a>'\n",
              "            + ' to learn more about interactive tables.';\n",
              "          element.innerHTML = '';\n",
              "          dataTable['output_type'] = 'display_data';\n",
              "          await google.colab.output.renderOutput(dataTable, element);\n",
              "          const docLink = document.createElement('div');\n",
              "          docLink.innerHTML = docLinkHtml;\n",
              "          element.appendChild(docLink);\n",
              "        }\n",
              "      </script>\n",
              "    </div>\n",
              "  </div>\n",
              "  "
            ]
          },
          "metadata": {},
          "execution_count": 70
        }
      ]
    },
    {
      "cell_type": "code",
      "source": [
        "x=data.iloc[:,2:]"
      ],
      "metadata": {
        "id": "3ORarSPpPer8"
      },
      "execution_count": null,
      "outputs": []
    },
    {
      "cell_type": "code",
      "source": [
        "print(x)"
      ],
      "metadata": {
        "colab": {
          "base_uri": "https://localhost:8080/"
        },
        "id": "aMp2Qcc6RgGY",
        "outputId": "53e58b8f-0dad-4f10-ede6-09432ce059ba"
      },
      "execution_count": null,
      "outputs": [
        {
          "output_type": "stream",
          "name": "stdout",
          "text": [
            "     1007_s_at   1053_at     117_at    121_at  1255_g_at   1294_at   1316_at  \\\n",
            "0    12.498150  7.604868   6.880934  9.027128   4.176175  7.224920  6.085942   \n",
            "1    13.067436  7.998090   7.209076  9.723322   4.826126  7.539381  6.250962   \n",
            "2    13.068179  8.573674   8.647684  9.613002   4.396581  7.813101  6.007746   \n",
            "3    12.456040  9.098977   6.628784  8.517677   4.154847  8.361843  6.596064   \n",
            "4    12.699958  8.800721  11.556188  9.166309   4.165891  7.923826  6.212754   \n",
            "..         ...       ...        ...       ...        ...       ...       ...   \n",
            "125  12.658228  8.843270   7.672655  9.125912   5.495477  8.603892  7.747514   \n",
            "126  12.812823  8.510550   8.729699  9.104402   3.967228  7.719089  7.092496   \n",
            "127  12.706991  8.795721   7.772359  8.327273   6.329383  8.550471  6.613332   \n",
            "128  12.684593  8.293938   7.228186  8.494428   6.049414  8.214729  7.287758   \n",
            "129  12.397722  8.843524   8.825100  8.551541   5.002072  8.547894  6.920827   \n",
            "\n",
            "      1320_at  1405_i_at   1431_at  ...  AFFX-r2-Ec-bioD-3_at  \\\n",
            "0    6.835999   5.898355  5.513410  ...              9.979005   \n",
            "1    8.012549   5.453147  6.173106  ...             11.924749   \n",
            "2    7.178156   8.400266  6.323471  ...             12.154405   \n",
            "3    6.347285   4.900380  6.008684  ...             11.969072   \n",
            "4    6.866387   5.405628  5.279579  ...             11.411701   \n",
            "..        ...        ...       ...  ...                   ...   \n",
            "125  5.828978   6.926720  4.967369  ...             13.170441   \n",
            "126  6.504812   6.157163  5.082896  ...             13.040267   \n",
            "127  6.308945   7.494852  4.919414  ...             12.825383   \n",
            "128  5.732710   6.296021  5.140635  ...             13.116581   \n",
            "129  5.738159   6.383309  5.229208  ...             13.117180   \n",
            "\n",
            "     AFFX-r2-Ec-bioD-5_at  AFFX-r2-P1-cre-3_at  AFFX-r2-P1-cre-5_at  \\\n",
            "0                9.926470            12.719785            12.777792   \n",
            "1               11.215930            13.605662            13.401342   \n",
            "2               11.532460            13.764593            13.477800   \n",
            "3               11.288801            13.600828            13.379029   \n",
            "4               11.169317            13.751442            13.803646   \n",
            "..                    ...                  ...                  ...   \n",
            "125             12.676080            14.124837            13.996436   \n",
            "126             12.403316            13.978009            13.812916   \n",
            "127             12.439265            14.328373            14.008693   \n",
            "128             12.657967            14.390346            14.194904   \n",
            "129             12.699932            14.286779            14.088950   \n",
            "\n",
            "     AFFX-ThrX-3_at  AFFX-ThrX-5_at  AFFX-ThrX-M_at  AFFX-TrpnX-3_at  \\\n",
            "0          5.403657        4.870548        4.047380         3.721936   \n",
            "1          5.224555        4.895315        3.786437         3.564481   \n",
            "2          5.303565        5.052184        4.005343         3.595382   \n",
            "3          4.953429        4.708371        3.892318         3.759429   \n",
            "4          4.892677        4.773806        3.796856         3.577544   \n",
            "..              ...             ...             ...              ...   \n",
            "125        4.913579        4.399176        3.878855         3.680103   \n",
            "126        5.189600        4.912618        3.764800         3.664920   \n",
            "127        4.931460        4.712895        3.913637         3.700964   \n",
            "128        4.871092        4.739400        3.782980         3.920363   \n",
            "129        4.932377        4.700205        3.952850         3.678112   \n",
            "\n",
            "     AFFX-TrpnX-5_at  AFFX-TrpnX-M_at  \n",
            "0           4.516434         4.749940  \n",
            "1           4.430891         4.491416  \n",
            "2           4.563494         4.668827  \n",
            "3           4.748381         4.521275  \n",
            "4           4.504385         4.541450  \n",
            "..               ...              ...  \n",
            "125         4.726784         4.564637  \n",
            "126         4.628355         4.761351  \n",
            "127         4.764693         4.834952  \n",
            "128         4.665584         4.613326  \n",
            "129         5.018501         4.704779  \n",
            "\n",
            "[130 rows x 54675 columns]\n"
          ]
        }
      ]
    },
    {
      "cell_type": "code",
      "source": [
        "y=data.iloc[:,1]"
      ],
      "metadata": {
        "id": "vz-L88IGR0y3"
      },
      "execution_count": null,
      "outputs": []
    },
    {
      "cell_type": "code",
      "source": [
        "print(y)"
      ],
      "metadata": {
        "colab": {
          "base_uri": "https://localhost:8080/"
        },
        "id": "9cBf4v5ZSEd0",
        "outputId": "4ea52fdc-5ff3-463d-aeed-3f400db157dd"
      },
      "execution_count": null,
      "outputs": [
        {
          "output_type": "stream",
          "name": "stdout",
          "text": [
            "0                 ependymoma\n",
            "1                 ependymoma\n",
            "2                 ependymoma\n",
            "3                 ependymoma\n",
            "4                 ependymoma\n",
            "               ...          \n",
            "125    pilocytic_astrocytoma\n",
            "126    pilocytic_astrocytoma\n",
            "127    pilocytic_astrocytoma\n",
            "128    pilocytic_astrocytoma\n",
            "129    pilocytic_astrocytoma\n",
            "Name: type, Length: 130, dtype: object\n"
          ]
        }
      ]
    },
    {
      "cell_type": "code",
      "source": [
        "from sklearn.preprocessing import StandardScaler\n",
        "sc= StandardScaler()\n",
        "x=sc.fit_transform(x)"
      ],
      "metadata": {
        "id": "CplJ_4SITMeL"
      },
      "execution_count": null,
      "outputs": []
    },
    {
      "cell_type": "code",
      "source": [
        "print(x)"
      ],
      "metadata": {
        "colab": {
          "base_uri": "https://localhost:8080/"
        },
        "id": "lsF3O-ECipwv",
        "outputId": "5916328b-3b23-4a9b-f86d-c5b0efd21ca2"
      },
      "execution_count": null,
      "outputs": [
        {
          "output_type": "stream",
          "name": "stdout",
          "text": [
            "[[ 0.28173373 -1.73630444 -0.8145423  ...  0.11359375 -0.69654765\n",
            "   0.60833125]\n",
            " [ 1.00498979 -1.1501069  -0.49698782 ... -0.76331585 -1.23104142\n",
            "  -0.74087848]\n",
            " [ 1.00593412 -0.29205229  0.89520246 ... -0.59121918 -0.40249803\n",
            "   0.18500941]\n",
            " ...\n",
            " [ 0.54705896  0.03896483  0.04812085 ... -0.00320234  0.85464601\n",
            "   1.05199918]\n",
            " [ 0.51860218 -0.70907044 -0.47849434 ...  1.21869065  0.23538466\n",
            "  -0.10464248]\n",
            " [ 0.15414353  0.11022798  1.06689351 ... -0.13047352  2.44050512\n",
            "   0.37263792]]\n"
          ]
        }
      ]
    },
    {
      "cell_type": "code",
      "source": [
        "from sklearn.ensemble import RandomForestClassifier\n",
        "model =RandomForestClassifier()"
      ],
      "metadata": {
        "id": "kmgo5CFWP-sU"
      },
      "execution_count": null,
      "outputs": []
    },
    {
      "cell_type": "markdown",
      "source": [
        "**Validation avec la technique Train test split**"
      ],
      "metadata": {
        "id": "JB9n-VxPQb5I"
      }
    },
    {
      "cell_type": "code",
      "source": [
        "from sklearn.model_selection import train_test_split\n",
        "X_train, X_test, y_train, y_test= train_test_split(x,y, test_size=0.2)\n",
        "model.fit(X_train,y_train)\n",
        "from sklearn.metrics import *\n",
        "y_pred = model.predict(X_test)"
      ],
      "metadata": {
        "id": "p58el9RnvDDz"
      },
      "execution_count": null,
      "outputs": []
    },
    {
      "cell_type": "code",
      "source": [
        "y_pred.shape"
      ],
      "metadata": {
        "colab": {
          "base_uri": "https://localhost:8080/"
        },
        "id": "wdfUzdBhOFfM",
        "outputId": "58775f58-1398-48c4-a45d-e02e2cbf89c5"
      },
      "execution_count": null,
      "outputs": [
        {
          "output_type": "execute_result",
          "data": {
            "text/plain": [
              "(26,)"
            ]
          },
          "metadata": {},
          "execution_count": 91
        }
      ]
    },
    {
      "cell_type": "code",
      "source": [
        "print(y_pred)"
      ],
      "metadata": {
        "colab": {
          "base_uri": "https://localhost:8080/"
        },
        "id": "tCroc6LyN_el",
        "outputId": "b240efda-b200-47d8-ad03-4d06c64b93d7"
      },
      "execution_count": null,
      "outputs": [
        {
          "output_type": "stream",
          "name": "stdout",
          "text": [
            "['glioblastoma' 'glioblastoma' 'ependymoma' 'medulloblastoma' 'ependymoma'\n",
            " 'medulloblastoma' 'medulloblastoma' 'normal' 'pilocytic_astrocytoma'\n",
            " 'ependymoma' 'medulloblastoma' 'normal' 'normal' 'medulloblastoma'\n",
            " 'glioblastoma' 'glioblastoma' 'medulloblastoma' 'medulloblastoma'\n",
            " 'normal' 'pilocytic_astrocytoma' 'medulloblastoma' 'ependymoma'\n",
            " 'medulloblastoma' 'ependymoma' 'glioblastoma' 'medulloblastoma']\n"
          ]
        }
      ]
    },
    {
      "cell_type": "code",
      "source": [
        "print(y_test)"
      ],
      "metadata": {
        "colab": {
          "base_uri": "https://localhost:8080/"
        },
        "id": "wFhILN1dOjOR",
        "outputId": "2f7e51a0-7e79-4361-a038-a2b3b594804e"
      },
      "execution_count": null,
      "outputs": [
        {
          "output_type": "stream",
          "name": "stdout",
          "text": [
            "67              glioblastoma\n",
            "68              glioblastoma\n",
            "31                ependymoma\n",
            "94           medulloblastoma\n",
            "5                 ependymoma\n",
            "91           medulloblastoma\n",
            "85           medulloblastoma\n",
            "102                   normal\n",
            "129    pilocytic_astrocytoma\n",
            "1                 ependymoma\n",
            "98           medulloblastoma\n",
            "104                   normal\n",
            "106                   normal\n",
            "95           medulloblastoma\n",
            "71              glioblastoma\n",
            "50              glioblastoma\n",
            "90           medulloblastoma\n",
            "88           medulloblastoma\n",
            "114                   normal\n",
            "127    pilocytic_astrocytoma\n",
            "82           medulloblastoma\n",
            "45                ependymoma\n",
            "84           medulloblastoma\n",
            "14                ependymoma\n",
            "57              glioblastoma\n",
            "99           medulloblastoma\n",
            "Name: type, dtype: object\n"
          ]
        }
      ]
    },
    {
      "cell_type": "code",
      "source": [
        "Accuracy = accuracy_score(y_test,y_pred)\n",
        "Precision = precision_score(y_test,y_pred,average='weighted')"
      ],
      "metadata": {
        "id": "Z9OEvu7OPksc"
      },
      "execution_count": null,
      "outputs": []
    },
    {
      "cell_type": "code",
      "source": [
        "print('Accuracy=',Accuracy,'\\n','Precision=',Precision)"
      ],
      "metadata": {
        "colab": {
          "base_uri": "https://localhost:8080/"
        },
        "id": "MHy1-_yqQW6f",
        "outputId": "e45d3a63-3fef-4d86-989c-bfb0e769fbbe"
      },
      "execution_count": null,
      "outputs": [
        {
          "output_type": "stream",
          "name": "stdout",
          "text": [
            "Accuracy= 1.0 \n",
            " Precision= 1.0\n"
          ]
        }
      ]
    },
    {
      "cell_type": "markdown",
      "source": [
        "**Validation avec la technique de cross validation Kfold**"
      ],
      "metadata": {
        "id": "Ep9SbXYRS44z"
      }
    },
    {
      "cell_type": "code",
      "source": [
        "from sklearn.model_selection import cross_val_score\n",
        "model= RandomForestClassifier()\n",
        "score = cross_val_score(model, x, y, cv=3)\n",
        "print(score)\n",
        "print (\"Le taux moyen de succès en classification est:\",score.mean()*100,'%')"
      ],
      "metadata": {
        "colab": {
          "base_uri": "https://localhost:8080/"
        },
        "id": "h7oEBy00rsb2",
        "outputId": "b907df1b-b2ea-4d97-dd37-1b0d69fc4bfe"
      },
      "execution_count": null,
      "outputs": [
        {
          "output_type": "stream",
          "name": "stdout",
          "text": [
            "[0.95454545 0.97674419 0.86046512]\n",
            "Le taux moyen de succès en classification est: 93.0584918957012 %\n"
          ]
        }
      ]
    },
    {
      "cell_type": "markdown",
      "source": [
        "**Deploy&Serialisation_Deserialisation: modèle pret à l'utilisation**"
      ],
      "metadata": {
        "id": "9LhULODZ-43l"
      }
    },
    {
      "cell_type": "code",
      "source": [
        "model = RandomForestClassifier()\n",
        "model.fit(x,y)"
      ],
      "metadata": {
        "colab": {
          "base_uri": "https://localhost:8080/"
        },
        "id": "OZFqtXtn5twr",
        "outputId": "105c7a38-682b-44de-c4fa-cc9f511addb9"
      },
      "execution_count": null,
      "outputs": [
        {
          "output_type": "execute_result",
          "data": {
            "text/plain": [
              "RandomForestClassifier()"
            ]
          },
          "metadata": {},
          "execution_count": 86
        }
      ]
    },
    {
      "cell_type": "code",
      "source": [
        "import pickle\n",
        "filename='cancer_type_model'\n",
        "pickle.dump(model,open(filename,'wb'))"
      ],
      "metadata": {
        "id": "uQljqlglOduw"
      },
      "execution_count": null,
      "outputs": []
    },
    {
      "cell_type": "code",
      "source": [
        "model_loaded = pickle.load(open(filename,'rb'))"
      ],
      "metadata": {
        "id": "urhdQ6Obm6BN"
      },
      "execution_count": null,
      "outputs": []
    }
  ]
}